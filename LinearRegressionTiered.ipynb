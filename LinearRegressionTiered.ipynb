{
  "nbformat": 4,
  "nbformat_minor": 0,
  "metadata": {
    "colab": {
      "name": "LinearRegressionTiered.ipynb",
      "provenance": []
    },
    "kernelspec": {
      "name": "python3",
      "display_name": "Python 3"
    }
  },
  "cells": [
    {
      "cell_type": "code",
      "metadata": {
        "id": "BKu4M8a5vjM7",
        "colab_type": "code",
        "outputId": "6fd382ae-948a-4e73-cc39-1964bf732698",
        "colab": {
          "base_uri": "https://localhost:8080/",
          "height": 102
        }
      },
      "source": [
        "!pip install pandas"
      ],
      "execution_count": 0,
      "outputs": [
        {
          "output_type": "stream",
          "text": [
            "Requirement already satisfied: pandas in /usr/local/lib/python3.6/dist-packages (1.0.3)\n",
            "Requirement already satisfied: pytz>=2017.2 in /usr/local/lib/python3.6/dist-packages (from pandas) (2018.9)\n",
            "Requirement already satisfied: python-dateutil>=2.6.1 in /usr/local/lib/python3.6/dist-packages (from pandas) (2.8.1)\n",
            "Requirement already satisfied: numpy>=1.13.3 in /usr/local/lib/python3.6/dist-packages (from pandas) (1.18.3)\n",
            "Requirement already satisfied: six>=1.5 in /usr/local/lib/python3.6/dist-packages (from python-dateutil>=2.6.1->pandas) (1.12.0)\n"
          ],
          "name": "stdout"
        }
      ]
    },
    {
      "cell_type": "code",
      "metadata": {
        "id": "AgnqwPY8vv62",
        "colab_type": "code",
        "outputId": "a69489a0-8348-4b78-978c-1f2d35208a38",
        "colab": {
          "base_uri": "https://localhost:8080/",
          "height": 105
        }
      },
      "source": [
        "!pip install -U scikit-learn\n"
      ],
      "execution_count": 0,
      "outputs": [
        {
          "output_type": "stream",
          "text": [
            "Requirement already up-to-date: scikit-learn in /usr/local/lib/python3.6/dist-packages (0.22.2.post1)\n",
            "Requirement already satisfied, skipping upgrade: numpy>=1.11.0 in /usr/local/lib/python3.6/dist-packages (from scikit-learn) (1.18.3)\n",
            "Requirement already satisfied, skipping upgrade: joblib>=0.11 in /usr/local/lib/python3.6/dist-packages (from scikit-learn) (0.14.1)\n",
            "Requirement already satisfied, skipping upgrade: scipy>=0.17.0 in /usr/local/lib/python3.6/dist-packages (from scikit-learn) (1.4.1)\n"
          ],
          "name": "stdout"
        }
      ]
    },
    {
      "cell_type": "code",
      "metadata": {
        "id": "SxSUiqSivzID",
        "colab_type": "code",
        "colab": {}
      },
      "source": [
        "import pandas as pd\n",
        "import numpy as np\n",
        "from sklearn.linear_model import LinearRegression\n",
        "from sklearn.metrics import mean_squared_error\n",
        "from sklearn.model_selection import train_test_split\n",
        "import math"
      ],
      "execution_count": 0,
      "outputs": []
    },
    {
      "cell_type": "code",
      "metadata": {
        "id": "l1SbsCkPv5gl",
        "colab_type": "code",
        "colab": {}
      },
      "source": [
        "df = pd.read_csv(\"dataset.csv\")\n",
        "df = df.drop(['country', 'country_abb'], axis=1)\n",
        "df_low = df.loc[df['Tier'] == '0']\n",
        "df_mid = df.loc[df['Tier'] == '1']\n",
        "df_high = df.loc[df['Tier'] == '2']"
      ],
      "execution_count": 0,
      "outputs": []
    },
    {
      "cell_type": "code",
      "metadata": {
        "id": "S2lZG5sewTxO",
        "colab_type": "code",
        "colab": {}
      },
      "source": [
        "# # some of the rows have 'NaN' as labels, so gotta drop those\n",
        "drop_row_indices_low = []\n",
        "for i, row in df_low.iterrows():\n",
        "    for j, col in row.iteritems():\n",
        "        try:\n",
        "            row[j] = float(col)\n",
        "        except ValueError:\n",
        "            # print(\"ValueError\")\n",
        "            drop_row_indices_low.append(i)\n",
        "            continue\n",
        "        if math.isnan(row[j]):\n",
        "            drop_row_indices_low.append(i)"
      ],
      "execution_count": 0,
      "outputs": []
    },
    {
      "cell_type": "code",
      "metadata": {
        "id": "IVflGanEwekq",
        "colab_type": "code",
        "colab": {}
      },
      "source": [
        "# # some of the rows have 'NaN' as labels, so gotta drop those\n",
        "drop_row_indices_mid = []\n",
        "for i, row in df_mid.iterrows():\n",
        "    for j, col in row.iteritems():\n",
        "        try:\n",
        "            row[j] = float(col)\n",
        "        except ValueError:\n",
        "            # print(\"ValueError\")\n",
        "            drop_row_indices_mid.append(i)\n",
        "            continue\n",
        "        if math.isnan(row[j]):\n",
        "            drop_row_indices_mid.append(i)\n"
      ],
      "execution_count": 0,
      "outputs": []
    },
    {
      "cell_type": "code",
      "metadata": {
        "id": "_5kGw3VHzOOW",
        "colab_type": "code",
        "colab": {}
      },
      "source": [
        "# # some of the rows have 'NaN' as labels, so gotta drop those\n",
        "drop_row_indices_high = []\n",
        "for i, row in df_high.iterrows():\n",
        "    for j, col in row.iteritems():\n",
        "        try:\n",
        "            row[j] = float(col)\n",
        "        except ValueError:\n",
        "            # print(\"ValueError\")\n",
        "            drop_row_indices_high.append(i)\n",
        "            continue\n",
        "        if math.isnan(row[j]):\n",
        "            drop_row_indices_high.append(i)"
      ],
      "execution_count": 0,
      "outputs": []
    },
    {
      "cell_type": "code",
      "metadata": {
        "id": "aarPSfXazRuS",
        "colab_type": "code",
        "colab": {}
      },
      "source": [
        "df_low = df_low.drop(drop_row_indices_low, axis=0)\n",
        "df_mid = df_mid.drop(drop_row_indices_mid, axis=0)\n",
        "df_high = df_high.drop(drop_row_indices_high, axis=0)"
      ],
      "execution_count": 0,
      "outputs": []
    },
    {
      "cell_type": "code",
      "metadata": {
        "id": "skJKkw8Xu57f",
        "colab_type": "code",
        "outputId": "becdcd7f-533b-4b75-cfee-6bade9ca5a2a",
        "colab": {
          "base_uri": "https://localhost:8080/",
          "height": 419
        }
      },
      "source": [
        "df_mid"
      ],
      "execution_count": 0,
      "outputs": [
        {
          "output_type": "execute_result",
          "data": {
            "text/html": [
              "<div>\n",
              "<style scoped>\n",
              "    .dataframe tbody tr th:only-of-type {\n",
              "        vertical-align: middle;\n",
              "    }\n",
              "\n",
              "    .dataframe tbody tr th {\n",
              "        vertical-align: top;\n",
              "    }\n",
              "\n",
              "    .dataframe thead th {\n",
              "        text-align: right;\n",
              "    }\n",
              "</style>\n",
              "<table border=\"1\" class=\"dataframe\">\n",
              "  <thead>\n",
              "    <tr style=\"text-align: right;\">\n",
              "      <th></th>\n",
              "      <th>year</th>\n",
              "      <th>Tier</th>\n",
              "      <th>VAA</th>\n",
              "      <th>PSNV</th>\n",
              "      <th>GE</th>\n",
              "      <th>RQ</th>\n",
              "      <th>RL</th>\n",
              "      <th>CC</th>\n",
              "      <th>GDPgrowth</th>\n",
              "    </tr>\n",
              "  </thead>\n",
              "  <tbody>\n",
              "    <tr>\n",
              "      <th>2</th>\n",
              "      <td>2002</td>\n",
              "      <td>1</td>\n",
              "      <td>-1.24</td>\n",
              "      <td>-1.58</td>\n",
              "      <td>-1.24</td>\n",
              "      <td>-1.46</td>\n",
              "      <td>-1.62</td>\n",
              "      <td>-1.18</td>\n",
              "      <td>13.66568652</td>\n",
              "    </tr>\n",
              "    <tr>\n",
              "      <th>3</th>\n",
              "      <td>2002</td>\n",
              "      <td>1</td>\n",
              "      <td>-0.01</td>\n",
              "      <td>-0.29</td>\n",
              "      <td>-0.53</td>\n",
              "      <td>-0.22</td>\n",
              "      <td>-0.76</td>\n",
              "      <td>-0.87</td>\n",
              "      <td>4.53996064</td>\n",
              "    </tr>\n",
              "    <tr>\n",
              "      <th>5</th>\n",
              "      <td>2002</td>\n",
              "      <td>1</td>\n",
              "      <td>0.26</td>\n",
              "      <td>-0.78</td>\n",
              "      <td>-0.28</td>\n",
              "      <td>-0.92</td>\n",
              "      <td>-0.76</td>\n",
              "      <td>-0.47</td>\n",
              "      <td>-10.89448483</td>\n",
              "    </tr>\n",
              "    <tr>\n",
              "      <th>6</th>\n",
              "      <td>2002</td>\n",
              "      <td>1</td>\n",
              "      <td>-0.44</td>\n",
              "      <td>-0.26</td>\n",
              "      <td>-0.09</td>\n",
              "      <td>0.04</td>\n",
              "      <td>-0.42</td>\n",
              "      <td>-0.75</td>\n",
              "      <td>13.18630053</td>\n",
              "    </tr>\n",
              "    <tr>\n",
              "      <th>10</th>\n",
              "      <td>2002</td>\n",
              "      <td>1</td>\n",
              "      <td>-0.98</td>\n",
              "      <td>-1.19</td>\n",
              "      <td>-0.93</td>\n",
              "      <td>-0.71</td>\n",
              "      <td>-0.91</td>\n",
              "      <td>-1.18</td>\n",
              "      <td>9.438916342</td>\n",
              "    </tr>\n",
              "    <tr>\n",
              "      <th>...</th>\n",
              "      <td>...</td>\n",
              "      <td>...</td>\n",
              "      <td>...</td>\n",
              "      <td>...</td>\n",
              "      <td>...</td>\n",
              "      <td>...</td>\n",
              "      <td>...</td>\n",
              "      <td>...</td>\n",
              "      <td>...</td>\n",
              "    </tr>\n",
              "    <tr>\n",
              "      <th>3459</th>\n",
              "      <td>2018</td>\n",
              "      <td>1</td>\n",
              "      <td>-1.45</td>\n",
              "      <td>0.20</td>\n",
              "      <td>0.00</td>\n",
              "      <td>-0.39</td>\n",
              "      <td>0.00</td>\n",
              "      <td>-0.49</td>\n",
              "      <td>7.075788617</td>\n",
              "    </tr>\n",
              "    <tr>\n",
              "      <th>3460</th>\n",
              "      <td>2018</td>\n",
              "      <td>1</td>\n",
              "      <td>0.54</td>\n",
              "      <td>0.84</td>\n",
              "      <td>-0.49</td>\n",
              "      <td>-0.47</td>\n",
              "      <td>0.34</td>\n",
              "      <td>-0.16</td>\n",
              "      <td>3.2</td>\n",
              "    </tr>\n",
              "    <tr>\n",
              "      <th>3461</th>\n",
              "      <td>2018</td>\n",
              "      <td>1</td>\n",
              "      <td>-0.90</td>\n",
              "      <td>-1.74</td>\n",
              "      <td>-0.76</td>\n",
              "      <td>0.05</td>\n",
              "      <td>-0.48</td>\n",
              "      <td>-0.20</td>\n",
              "      <td>0.905278232</td>\n",
              "    </tr>\n",
              "    <tr>\n",
              "      <th>3464</th>\n",
              "      <td>2018</td>\n",
              "      <td>1</td>\n",
              "      <td>0.00</td>\n",
              "      <td>0.08</td>\n",
              "      <td>0.11</td>\n",
              "      <td>0.01</td>\n",
              "      <td>-0.15</td>\n",
              "      <td>-0.37</td>\n",
              "      <td>4.392237239</td>\n",
              "    </tr>\n",
              "    <tr>\n",
              "      <th>3465</th>\n",
              "      <td>2018</td>\n",
              "      <td>1</td>\n",
              "      <td>0.66</td>\n",
              "      <td>-0.28</td>\n",
              "      <td>0.34</td>\n",
              "      <td>0.17</td>\n",
              "      <td>-0.10</td>\n",
              "      <td>-0.02</td>\n",
              "      <td>0.787055571</td>\n",
              "    </tr>\n",
              "  </tbody>\n",
              "</table>\n",
              "<p>1226 rows × 9 columns</p>\n",
              "</div>"
            ],
            "text/plain": [
              "      year Tier   VAA  PSNV    GE    RQ    RL    CC     GDPgrowth\n",
              "2     2002    1 -1.24 -1.58 -1.24 -1.46 -1.62 -1.18   13.66568652\n",
              "3     2002    1 -0.01 -0.29 -0.53 -0.22 -0.76 -0.87    4.53996064\n",
              "5     2002    1  0.26 -0.78 -0.28 -0.92 -0.76 -0.47  -10.89448483\n",
              "6     2002    1 -0.44 -0.26 -0.09  0.04 -0.42 -0.75   13.18630053\n",
              "10    2002    1 -0.98 -1.19 -0.93 -0.71 -0.91 -1.18   9.438916342\n",
              "...    ...  ...   ...   ...   ...   ...   ...   ...           ...\n",
              "3459  2018    1 -1.45  0.20  0.00 -0.39  0.00 -0.49   7.075788617\n",
              "3460  2018    1  0.54  0.84 -0.49 -0.47  0.34 -0.16           3.2\n",
              "3461  2018    1 -0.90 -1.74 -0.76  0.05 -0.48 -0.20   0.905278232\n",
              "3464  2018    1  0.00  0.08  0.11  0.01 -0.15 -0.37   4.392237239\n",
              "3465  2018    1  0.66 -0.28  0.34  0.17 -0.10 -0.02   0.787055571\n",
              "\n",
              "[1226 rows x 9 columns]"
            ]
          },
          "metadata": {
            "tags": []
          },
          "execution_count": 18
        }
      ]
    },
    {
      "cell_type": "code",
      "metadata": {
        "id": "6RYS0ggfYy-6",
        "colab_type": "code",
        "colab": {}
      },
      "source": [
        "features = ['year', 'VAA', 'PSNV', 'GE', 'RQ', 'RL', 'CC']\n",
        "\n",
        "X_low = df_low.loc[:, features]\n",
        "y_low = df_low.GDPgrowth\n",
        "X_train_low, X_test_low, y_train_low, y_test_low = train_test_split(X_low, y_low, test_size=.15)\n",
        "\n",
        "X_mid = df_mid.loc[:, features]\n",
        "y_mid = df_mid.GDPgrowth\n",
        "X_train_mid, X_test_mid, y_train_mid, y_test_mid = train_test_split(X_mid, y_mid, test_size=.15)\n",
        "\n",
        "X_high = df_high.loc[:, features]\n",
        "y_high = df_high.GDPgrowth\n",
        "X_train_high, X_test_high, y_train_high, y_test_high = train_test_split(X_high, y_high, test_size=.15)\n",
        "\n",
        "regression_model = LinearRegression()"
      ],
      "execution_count": 0,
      "outputs": []
    },
    {
      "cell_type": "code",
      "metadata": {
        "id": "71ZDsv4iY7bB",
        "colab_type": "code",
        "outputId": "3133b44d-07e2-4a95-cc73-f57eaf249613",
        "colab": {
          "base_uri": "https://localhost:8080/",
          "height": 34
        }
      },
      "source": [
        "regression_model.fit(X_train_low, y_train_low)\n",
        "predicted_y_low = regression_model.predict(X_test_low)\n",
        "mean_squared_error(y_test_low, predicted_y_low)"
      ],
      "execution_count": 0,
      "outputs": [
        {
          "output_type": "execute_result",
          "data": {
            "text/plain": [
              "22.17139345913844"
            ]
          },
          "metadata": {
            "tags": []
          },
          "execution_count": 23
        }
      ]
    },
    {
      "cell_type": "code",
      "metadata": {
        "id": "_zKTViJ5Zxr-",
        "colab_type": "code",
        "outputId": "0295d8b0-bc25-4694-8c7f-76650a117e9d",
        "colab": {
          "base_uri": "https://localhost:8080/",
          "height": 34
        }
      },
      "source": [
        "regression_model.fit(X_train_mid, y_train_mid)\n",
        "predicted_y_mid = regression_model.predict(X_test_mid)\n",
        "mean_squared_error(y_test_mid, predicted_y_mid)"
      ],
      "execution_count": 0,
      "outputs": [
        {
          "output_type": "execute_result",
          "data": {
            "text/plain": [
              "18.475388570557428"
            ]
          },
          "metadata": {
            "tags": []
          },
          "execution_count": 21
        }
      ]
    },
    {
      "cell_type": "code",
      "metadata": {
        "id": "YYWbHP8qZzCf",
        "colab_type": "code",
        "outputId": "840a3047-eb26-40cc-b6a2-79c4b8d76146",
        "colab": {
          "base_uri": "https://localhost:8080/",
          "height": 34
        }
      },
      "source": [
        "regression_model.fit(X_train_high, y_train_high)\n",
        "predicted_y_high = regression_model.predict(X_test_high)\n",
        "mean_squared_error(y_test_high, predicted_y_high)"
      ],
      "execution_count": 0,
      "outputs": [
        {
          "output_type": "execute_result",
          "data": {
            "text/plain": [
              "13.361899868592285"
            ]
          },
          "metadata": {
            "tags": []
          },
          "execution_count": 22
        }
      ]
    },
    {
      "cell_type": "code",
      "metadata": {
        "id": "TbGMKLESxfAG",
        "colab_type": "code",
        "outputId": "e40d2266-0373-424b-d6cd-fa8c89987257",
        "colab": {
          "base_uri": "https://localhost:8080/",
          "height": 510
        }
      },
      "source": [
        "df2 = pd.read_csv(\"dataset.csv\")\n",
        "df2 = df2.drop(['country', 'country_abb'], axis=1)\n",
        "\n",
        "# # some of the rows have 'NaN' as labels, so gotta drop those\n",
        "drop_row_indices = []\n",
        "for i, row in df2.iterrows():\n",
        "    for j, col in row.iteritems():\n",
        "        try:\n",
        "            row[j] = float(col)\n",
        "        except ValueError:\n",
        "            # print(\"ValueError\")\n",
        "            drop_row_indices.append(i)\n",
        "            continue\n",
        "        if math.isnan(row[j]):\n",
        "            drop_row_indices.append(i)\n",
        "\n",
        "df2 = df2.drop(drop_row_indices, axis=0)\n",
        "\n",
        "print(df2)\n",
        "\n",
        "features2 = ['year', 'Tier','VAA', 'PSNV', 'GE', 'RQ', 'RL', 'CC']\n",
        "\n",
        "X = df2.loc[:, features2]\n",
        "\n",
        "y = df2.GDPgrowth\n",
        "\n",
        "av_mean_squared_error = 0\n",
        "for i in range(10):\n",
        "  X_train, X_test, y_train, y_test = train_test_split(X, y, test_size=.15)\n",
        "\n",
        "  regression_model2 = LinearRegression()\n",
        "\n",
        "  regression_model2.fit(X_train, y_train)\n",
        "  predicted_y = regression_model2.predict(X_test)\n",
        "  av_mean_squared_error+=mean_squared_error(y_test, predicted_y)/10\n",
        "\n",
        "av_mean_squared_error\n",
        "\n"
      ],
      "execution_count": 0,
      "outputs": [
        {
          "output_type": "stream",
          "text": [
            "      year Tier   VAA  PSNV  ...     GDPgrowth  Tier0  Tier1  Tier2\n",
            "2     2002    1 -1.24 -1.58  ...   13.66568652    0.0    1.0    0.0\n",
            "3     2002    1 -0.01 -0.29  ...    4.53996064    0.0    1.0    0.0\n",
            "4     2002    2 -0.63  0.93  ...    2.43345681    0.0    0.0    1.0\n",
            "5     2002    1  0.26 -0.78  ...  -10.89448483    0.0    1.0    0.0\n",
            "6     2002    1 -0.44 -0.26  ...   13.18630053    0.0    1.0    0.0\n",
            "...    ...  ...   ...   ...  ...           ...    ...    ...    ...\n",
            "3464  2018    1  0.00  0.08  ...   4.392237239    0.0    1.0    0.0\n",
            "3465  2018    1  0.66 -0.28  ...  0.7870555705    0.0    1.0    0.0\n",
            "3466  2018    0 -1.51 -2.12  ...   5.757932738    1.0    0.0    0.0\n",
            "3467  2018    0 -0.32  0.14  ...   3.794900917    1.0    0.0    0.0\n",
            "3468  2018    0 -1.13 -0.71  ...   6.159189798    1.0    0.0    0.0\n",
            "\n",
            "[3136 rows x 13 columns]\n",
            "      year Tier   VAA  PSNV    GE    RQ    RL    CC\n",
            "2     2002    1 -1.24 -1.58 -1.24 -1.46 -1.62 -1.18\n",
            "3     2002    1 -0.01 -0.29 -0.53 -0.22 -0.76 -0.87\n",
            "4     2002    2 -0.63  0.93  0.85  1.12  0.73  1.15\n",
            "5     2002    1  0.26 -0.78 -0.28 -0.92 -0.76 -0.47\n",
            "6     2002    1 -0.44 -0.26 -0.09  0.04 -0.42 -0.75\n",
            "...    ...  ...   ...   ...   ...   ...   ...   ...\n",
            "3464  2018    1  0.00  0.08  0.11  0.01 -0.15 -0.37\n",
            "3465  2018    1  0.66 -0.28  0.34  0.17 -0.10 -0.02\n",
            "3466  2018    0 -1.51 -2.12 -1.55 -1.47 -1.78 -1.50\n",
            "3467  2018    0 -0.32  0.14 -0.56 -0.44 -0.34 -0.66\n",
            "3468  2018    0 -1.13 -0.71 -1.20 -1.58 -1.27 -1.24\n",
            "\n",
            "[3136 rows x 8 columns]\n"
          ],
          "name": "stdout"
        },
        {
          "output_type": "execute_result",
          "data": {
            "text/plain": [
              "33.61326672198833"
            ]
          },
          "metadata": {
            "tags": []
          },
          "execution_count": 19
        }
      ]
    },
    {
      "cell_type": "code",
      "metadata": {
        "id": "itv9W0QYhPlV",
        "colab_type": "code",
        "outputId": "3cc1d267-9d1f-4871-cfb5-781ee246c1ba",
        "colab": {
          "base_uri": "https://localhost:8080/",
          "height": 34
        }
      },
      "source": [
        "#model with tiered dummies as features \n",
        "df2 = pd.read_csv(\"dataset.csv\")\n",
        "df2 = df2.drop(['country', 'country_abb'], axis=1)\n",
        "\n",
        "# # some of the rows have 'NaN' as labels, so gotta drop those\n",
        "drop_row_indices = []\n",
        "for i, row in df2.iterrows():\n",
        "    for j, col in row.iteritems():\n",
        "        try:\n",
        "            row[j] = float(col)\n",
        "        except ValueError:\n",
        "            # print(\"ValueError\")\n",
        "            drop_row_indices.append(i)\n",
        "            continue\n",
        "        if math.isnan(row[j]):\n",
        "            drop_row_indices.append(i)\n",
        "\n",
        "df2 = df2.drop(drop_row_indices, axis=0)\n",
        "\n",
        "features3 = ['year', 'Tier0','Tier1','Tier2','VAA', 'PSNV', 'GE', 'RQ', 'RL', 'CC']\n",
        "\n",
        "X = df2.loc[:, features3]\n",
        "y = df2.GDPgrowth\n",
        "\n",
        "av_mean_squared_error=0\n",
        "\n",
        "for i in range(10):\n",
        "  X_train, X_test, y_train, y_test = train_test_split(X, y, test_size=.15)\n",
        "\n",
        "  regression_model3 = LinearRegression()\n",
        "\n",
        "  regression_model3.fit(X_train, y_train)\n",
        "  predicted_y = regression_model3.predict(X_test)\n",
        "  av_mean_squared_error += mean_squared_error(y_test, predicted_y)/10\n",
        "\n",
        "av_mean_squared_error\n"
      ],
      "execution_count": 0,
      "outputs": [
        {
          "output_type": "execute_result",
          "data": {
            "text/plain": [
              "28.061899363552875"
            ]
          },
          "metadata": {
            "tags": []
          },
          "execution_count": 17
        }
      ]
    },
    {
      "cell_type": "code",
      "metadata": {
        "id": "YJeL4jUtJrBf",
        "colab_type": "code",
        "colab": {}
      },
      "source": [
        ""
      ],
      "execution_count": 0,
      "outputs": []
    }
  ]
}