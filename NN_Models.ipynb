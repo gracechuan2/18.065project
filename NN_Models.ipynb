{
  "nbformat": 4,
  "nbformat_minor": 0,
  "metadata": {
    "colab": {
      "name": "NN_Models.ipynb",
      "provenance": [],
      "collapsed_sections": []
    },
    "kernelspec": {
      "name": "python3",
      "display_name": "Python 3"
    }
  },
  "cells": [
    {
      "cell_type": "code",
      "metadata": {
        "id": "htnVUpwsy9Dq",
        "colab_type": "code",
        "colab": {}
      },
      "source": [
        "!pip install -q seaborn"
      ],
      "execution_count": 0,
      "outputs": []
    },
    {
      "cell_type": "code",
      "metadata": {
        "id": "rR1WcpUI2_Qs",
        "colab_type": "code",
        "outputId": "5d58b17b-fc78-411c-e271-eb654d78b084",
        "colab": {
          "base_uri": "https://localhost:8080/",
          "height": 309
        }
      },
      "source": [
        "!pip install git+https://github.com/tensorflow/docs"
      ],
      "execution_count": 0,
      "outputs": [
        {
          "output_type": "stream",
          "text": [
            "Collecting git+https://github.com/tensorflow/docs\n",
            "  Cloning https://github.com/tensorflow/docs to /tmp/pip-req-build-67pwrb51\n",
            "  Running command git clone -q https://github.com/tensorflow/docs /tmp/pip-req-build-67pwrb51\n",
            "Requirement already satisfied: astor in /usr/local/lib/python3.6/dist-packages (from tensorflow-docs===0.0.09c767b21ec238bb0fe8561f6596f5dcdce915c4e-) (0.8.1)\n",
            "Requirement already satisfied: absl-py in /usr/local/lib/python3.6/dist-packages (from tensorflow-docs===0.0.09c767b21ec238bb0fe8561f6596f5dcdce915c4e-) (0.9.0)\n",
            "Requirement already satisfied: six in /usr/local/lib/python3.6/dist-packages (from tensorflow-docs===0.0.09c767b21ec238bb0fe8561f6596f5dcdce915c4e-) (1.12.0)\n",
            "Collecting pathlib2\n",
            "  Downloading https://files.pythonhosted.org/packages/e9/45/9c82d3666af4ef9f221cbb954e1d77ddbb513faf552aea6df5f37f1a4859/pathlib2-2.3.5-py2.py3-none-any.whl\n",
            "Requirement already satisfied: pyyaml in /usr/local/lib/python3.6/dist-packages (from tensorflow-docs===0.0.09c767b21ec238bb0fe8561f6596f5dcdce915c4e-) (3.13)\n",
            "Building wheels for collected packages: tensorflow-docs\n",
            "  Building wheel for tensorflow-docs (setup.py) ... \u001b[?25l\u001b[?25hdone\n",
            "  Created wheel for tensorflow-docs: filename=tensorflow_docs-0.0.09c767b21ec238bb0fe8561f6596f5dcdce915c4e_-cp36-none-any.whl size=100470 sha256=14b25b0bfd0636c6439a3aef466f2e4acd6744b522a2bff99b086ea325609734\n",
            "  Stored in directory: /tmp/pip-ephem-wheel-cache-ge4zz2d4/wheels/eb/1b/35/fce87697be00d2fc63e0b4b395b0d9c7e391a10e98d9a0d97f\n",
            "Successfully built tensorflow-docs\n",
            "Installing collected packages: pathlib2, tensorflow-docs\n",
            "Successfully installed pathlib2-2.3.5 tensorflow-docs-0.0.09c767b21ec238bb0fe8561f6596f5dcdce915c4e-\n"
          ],
          "name": "stdout"
        }
      ]
    },
    {
      "cell_type": "code",
      "metadata": {
        "id": "NJtKafz1i_6T",
        "colab_type": "code",
        "colab": {}
      },
      "source": [
        "import pandas as pd\n",
        "import numpy as np\n",
        "from sklearn.linear_model import LinearRegression\n",
        "from sklearn.model_selection import train_test_split\n",
        "from sklearn.metrics import mean_squared_error\n",
        "import tensorflow as tf\n",
        "from tensorflow import keras\n",
        "from tensorflow.keras import layers\n",
        "import seaborn as sns\n",
        "\n",
        "from tensorflow.keras.callbacks import EarlyStopping\n",
        "import tensorflow_docs as tfdocs\n",
        "import tensorflow_docs.plots\n",
        "import tensorflow_docs.modeling\n",
        "import torch\n",
        "import torch.nn as nn\n",
        "import torch.utils.data as Data\n",
        "\n",
        "import math\n",
        "import matplotlib.pyplot as plt"
      ],
      "execution_count": 0,
      "outputs": []
    },
    {
      "cell_type": "code",
      "metadata": {
        "id": "l2ehn_P-BtWs",
        "colab_type": "code",
        "colab": {}
      },
      "source": [
        "# normalize data\n",
        "def norm(x, summ_stat):\n",
        "  return (x - summ_stat['mean'].astype(object)) / summ_stat['std'].astype(object)"
      ],
      "execution_count": 0,
      "outputs": []
    },
    {
      "cell_type": "code",
      "metadata": {
        "id": "pk76DrbTmEqo",
        "colab_type": "code",
        "colab": {}
      },
      "source": [
        "# cleaning data\n",
        "df = pd.read_csv(\"dataset.csv\")\n",
        "df = df.drop(['country', 'country_abb'], axis=1)\n",
        "drop_row_indices = []\n",
        "for i, row in df.iterrows():\n",
        "    for j, col in row.iteritems():\n",
        "        try:\n",
        "            row[j] = float(col)\n",
        "        except ValueError:\n",
        "            # print(\"ValueError\")\n",
        "            drop_row_indices.append(i)\n",
        "            continue\n",
        "        if math.isnan(row[j]):\n",
        "            drop_row_indices.append(i)\n",
        "df = df.drop(drop_row_indices, axis = 0)\n",
        "GDP_growth=df['GDPgrowth']\n",
        "\n",
        "features = ['year','VAA', 'PSNV', 'GE', 'RQ', 'RL', 'CC', 'Tier0', 'Tier1', 'Tier2', 'GDPgrowth']\n",
        "\n",
        "df = df.loc[:,features].astype(float)\n"
      ],
      "execution_count": 0,
      "outputs": []
    },
    {
      "cell_type": "code",
      "metadata": {
        "id": "Jmq8sgQJDoQe",
        "colab_type": "code",
        "outputId": "0825c164-51ba-43b2-e959-aa618c3655c5",
        "colab": {
          "base_uri": "https://localhost:8080/",
          "height": 204
        }
      },
      "source": [
        "#NN Model 1\n",
        "\n",
        "train_dataset = df.sample(frac=0.8,random_state=0)\n",
        "test_dataset = df.drop(train_dataset.index)\n",
        "\n",
        "train_dataset.head()\n",
        "\n"
      ],
      "execution_count": 0,
      "outputs": [
        {
          "output_type": "execute_result",
          "data": {
            "text/html": [
              "<div>\n",
              "<style scoped>\n",
              "    .dataframe tbody tr th:only-of-type {\n",
              "        vertical-align: middle;\n",
              "    }\n",
              "\n",
              "    .dataframe tbody tr th {\n",
              "        vertical-align: top;\n",
              "    }\n",
              "\n",
              "    .dataframe thead th {\n",
              "        text-align: right;\n",
              "    }\n",
              "</style>\n",
              "<table border=\"1\" class=\"dataframe\">\n",
              "  <thead>\n",
              "    <tr style=\"text-align: right;\">\n",
              "      <th></th>\n",
              "      <th>year</th>\n",
              "      <th>VAA</th>\n",
              "      <th>PSNV</th>\n",
              "      <th>GE</th>\n",
              "      <th>RQ</th>\n",
              "      <th>RL</th>\n",
              "      <th>CC</th>\n",
              "      <th>Tier0</th>\n",
              "      <th>Tier1</th>\n",
              "      <th>Tier2</th>\n",
              "      <th>GDPgrowth</th>\n",
              "    </tr>\n",
              "  </thead>\n",
              "  <tbody>\n",
              "    <tr>\n",
              "      <th>1321</th>\n",
              "      <td>2008.0</td>\n",
              "      <td>-0.30</td>\n",
              "      <td>-0.16</td>\n",
              "      <td>-0.23</td>\n",
              "      <td>-0.35</td>\n",
              "      <td>-0.18</td>\n",
              "      <td>-0.82</td>\n",
              "      <td>0.0</td>\n",
              "      <td>1.0</td>\n",
              "      <td>0.0</td>\n",
              "      <td>9.485333</td>\n",
              "    </tr>\n",
              "    <tr>\n",
              "      <th>1684</th>\n",
              "      <td>2010.0</td>\n",
              "      <td>1.05</td>\n",
              "      <td>1.21</td>\n",
              "      <td>-0.80</td>\n",
              "      <td>-0.88</td>\n",
              "      <td>-0.10</td>\n",
              "      <td>-0.15</td>\n",
              "      <td>0.0</td>\n",
              "      <td>1.0</td>\n",
              "      <td>0.0</td>\n",
              "      <td>2.259374</td>\n",
              "    </tr>\n",
              "    <tr>\n",
              "      <th>314</th>\n",
              "      <td>2003.0</td>\n",
              "      <td>0.85</td>\n",
              "      <td>1.01</td>\n",
              "      <td>0.72</td>\n",
              "      <td>0.61</td>\n",
              "      <td>1.08</td>\n",
              "      <td>0.30</td>\n",
              "      <td>0.0</td>\n",
              "      <td>1.0</td>\n",
              "      <td>0.0</td>\n",
              "      <td>5.925445</td>\n",
              "    </tr>\n",
              "    <tr>\n",
              "      <th>2189</th>\n",
              "      <td>2012.0</td>\n",
              "      <td>-0.03</td>\n",
              "      <td>-1.19</td>\n",
              "      <td>0.11</td>\n",
              "      <td>-0.06</td>\n",
              "      <td>-0.52</td>\n",
              "      <td>-0.56</td>\n",
              "      <td>0.0</td>\n",
              "      <td>1.0</td>\n",
              "      <td>0.0</td>\n",
              "      <td>6.683819</td>\n",
              "    </tr>\n",
              "    <tr>\n",
              "      <th>2314</th>\n",
              "      <td>2013.0</td>\n",
              "      <td>1.00</td>\n",
              "      <td>1.10</td>\n",
              "      <td>-0.57</td>\n",
              "      <td>-0.94</td>\n",
              "      <td>0.07</td>\n",
              "      <td>-0.20</td>\n",
              "      <td>0.0</td>\n",
              "      <td>1.0</td>\n",
              "      <td>0.0</td>\n",
              "      <td>-3.679787</td>\n",
              "    </tr>\n",
              "  </tbody>\n",
              "</table>\n",
              "</div>"
            ],
            "text/plain": [
              "        year   VAA  PSNV    GE    RQ  ...    CC  Tier0  Tier1  Tier2  GDPgrowth\n",
              "1321  2008.0 -0.30 -0.16 -0.23 -0.35  ... -0.82    0.0    1.0    0.0   9.485333\n",
              "1684  2010.0  1.05  1.21 -0.80 -0.88  ... -0.15    0.0    1.0    0.0   2.259374\n",
              "314   2003.0  0.85  1.01  0.72  0.61  ...  0.30    0.0    1.0    0.0   5.925445\n",
              "2189  2012.0 -0.03 -1.19  0.11 -0.06  ... -0.56    0.0    1.0    0.0   6.683819\n",
              "2314  2013.0  1.00  1.10 -0.57 -0.94  ... -0.20    0.0    1.0    0.0  -3.679787\n",
              "\n",
              "[5 rows x 11 columns]"
            ]
          },
          "metadata": {
            "tags": []
          },
          "execution_count": 110
        }
      ]
    },
    {
      "cell_type": "code",
      "metadata": {
        "id": "yWc5lb6gn1A-",
        "colab_type": "code",
        "colab": {}
      },
      "source": [
        "# look into this more\n",
        "# sns.pairplot(train_dataset[features], diag_kind=\"kde\")"
      ],
      "execution_count": 0,
      "outputs": []
    },
    {
      "cell_type": "code",
      "metadata": {
        "id": "nLz9rxRX0JLf",
        "colab_type": "code",
        "outputId": "549a2763-54a8-4d0f-b95e-769b528c0ce7",
        "colab": {
          "base_uri": "https://localhost:8080/",
          "height": 390
        }
      },
      "source": [
        "stats = df.describe()\n",
        "\n",
        "stats = stats.transpose()\n",
        "stats"
      ],
      "execution_count": 0,
      "outputs": [
        {
          "output_type": "execute_result",
          "data": {
            "text/html": [
              "<div>\n",
              "<style scoped>\n",
              "    .dataframe tbody tr th:only-of-type {\n",
              "        vertical-align: middle;\n",
              "    }\n",
              "\n",
              "    .dataframe tbody tr th {\n",
              "        vertical-align: top;\n",
              "    }\n",
              "\n",
              "    .dataframe thead th {\n",
              "        text-align: right;\n",
              "    }\n",
              "</style>\n",
              "<table border=\"1\" class=\"dataframe\">\n",
              "  <thead>\n",
              "    <tr style=\"text-align: right;\">\n",
              "      <th></th>\n",
              "      <th>count</th>\n",
              "      <th>mean</th>\n",
              "      <th>std</th>\n",
              "      <th>min</th>\n",
              "      <th>25%</th>\n",
              "      <th>50%</th>\n",
              "      <th>75%</th>\n",
              "      <th>max</th>\n",
              "    </tr>\n",
              "  </thead>\n",
              "  <tbody>\n",
              "    <tr>\n",
              "      <th>year</th>\n",
              "      <td>3136.0</td>\n",
              "      <td>2010.020089</td>\n",
              "      <td>4.867748</td>\n",
              "      <td>2002.00000</td>\n",
              "      <td>2006.000000</td>\n",
              "      <td>2010.000000</td>\n",
              "      <td>2014.000000</td>\n",
              "      <td>2018.000000</td>\n",
              "    </tr>\n",
              "    <tr>\n",
              "      <th>VAA</th>\n",
              "      <td>3136.0</td>\n",
              "      <td>-0.009649</td>\n",
              "      <td>0.973599</td>\n",
              "      <td>-2.26000</td>\n",
              "      <td>-0.820000</td>\n",
              "      <td>0.010000</td>\n",
              "      <td>0.842500</td>\n",
              "      <td>1.800000</td>\n",
              "    </tr>\n",
              "    <tr>\n",
              "      <th>PSNV</th>\n",
              "      <td>3136.0</td>\n",
              "      <td>-0.032436</td>\n",
              "      <td>0.971939</td>\n",
              "      <td>-3.18000</td>\n",
              "      <td>-0.670000</td>\n",
              "      <td>0.070000</td>\n",
              "      <td>0.790000</td>\n",
              "      <td>1.970000</td>\n",
              "    </tr>\n",
              "    <tr>\n",
              "      <th>GE</th>\n",
              "      <td>3136.0</td>\n",
              "      <td>-0.008186</td>\n",
              "      <td>0.974957</td>\n",
              "      <td>-2.27000</td>\n",
              "      <td>-0.730000</td>\n",
              "      <td>-0.160000</td>\n",
              "      <td>0.660000</td>\n",
              "      <td>2.440000</td>\n",
              "    </tr>\n",
              "    <tr>\n",
              "      <th>RQ</th>\n",
              "      <td>3136.0</td>\n",
              "      <td>-0.002038</td>\n",
              "      <td>0.972314</td>\n",
              "      <td>-2.63000</td>\n",
              "      <td>-0.710000</td>\n",
              "      <td>-0.145000</td>\n",
              "      <td>0.700000</td>\n",
              "      <td>2.260000</td>\n",
              "    </tr>\n",
              "    <tr>\n",
              "      <th>RL</th>\n",
              "      <td>3136.0</td>\n",
              "      <td>-0.019165</td>\n",
              "      <td>0.976978</td>\n",
              "      <td>-1.92000</td>\n",
              "      <td>-0.780000</td>\n",
              "      <td>-0.180000</td>\n",
              "      <td>0.700000</td>\n",
              "      <td>2.100000</td>\n",
              "    </tr>\n",
              "    <tr>\n",
              "      <th>CC</th>\n",
              "      <td>3136.0</td>\n",
              "      <td>-0.019892</td>\n",
              "      <td>0.992897</td>\n",
              "      <td>-1.83000</td>\n",
              "      <td>-0.750000</td>\n",
              "      <td>-0.265000</td>\n",
              "      <td>0.620000</td>\n",
              "      <td>2.470000</td>\n",
              "    </tr>\n",
              "    <tr>\n",
              "      <th>Tier0</th>\n",
              "      <td>3136.0</td>\n",
              "      <td>0.271365</td>\n",
              "      <td>0.444735</td>\n",
              "      <td>0.00000</td>\n",
              "      <td>0.000000</td>\n",
              "      <td>0.000000</td>\n",
              "      <td>1.000000</td>\n",
              "      <td>1.000000</td>\n",
              "    </tr>\n",
              "    <tr>\n",
              "      <th>Tier1</th>\n",
              "      <td>3136.0</td>\n",
              "      <td>0.390944</td>\n",
              "      <td>0.488040</td>\n",
              "      <td>0.00000</td>\n",
              "      <td>0.000000</td>\n",
              "      <td>0.000000</td>\n",
              "      <td>1.000000</td>\n",
              "      <td>1.000000</td>\n",
              "    </tr>\n",
              "    <tr>\n",
              "      <th>Tier2</th>\n",
              "      <td>3136.0</td>\n",
              "      <td>0.337691</td>\n",
              "      <td>0.472998</td>\n",
              "      <td>0.00000</td>\n",
              "      <td>0.000000</td>\n",
              "      <td>0.000000</td>\n",
              "      <td>1.000000</td>\n",
              "      <td>1.000000</td>\n",
              "    </tr>\n",
              "    <tr>\n",
              "      <th>GDPgrowth</th>\n",
              "      <td>3136.0</td>\n",
              "      <td>3.885238</td>\n",
              "      <td>5.631754</td>\n",
              "      <td>-62.07592</td>\n",
              "      <td>1.712866</td>\n",
              "      <td>3.798431</td>\n",
              "      <td>6.165522</td>\n",
              "      <td>123.139555</td>\n",
              "    </tr>\n",
              "  </tbody>\n",
              "</table>\n",
              "</div>"
            ],
            "text/plain": [
              "            count         mean       std  ...          50%          75%          max\n",
              "year       3136.0  2010.020089  4.867748  ...  2010.000000  2014.000000  2018.000000\n",
              "VAA        3136.0    -0.009649  0.973599  ...     0.010000     0.842500     1.800000\n",
              "PSNV       3136.0    -0.032436  0.971939  ...     0.070000     0.790000     1.970000\n",
              "GE         3136.0    -0.008186  0.974957  ...    -0.160000     0.660000     2.440000\n",
              "RQ         3136.0    -0.002038  0.972314  ...    -0.145000     0.700000     2.260000\n",
              "RL         3136.0    -0.019165  0.976978  ...    -0.180000     0.700000     2.100000\n",
              "CC         3136.0    -0.019892  0.992897  ...    -0.265000     0.620000     2.470000\n",
              "Tier0      3136.0     0.271365  0.444735  ...     0.000000     1.000000     1.000000\n",
              "Tier1      3136.0     0.390944  0.488040  ...     0.000000     1.000000     1.000000\n",
              "Tier2      3136.0     0.337691  0.472998  ...     0.000000     1.000000     1.000000\n",
              "GDPgrowth  3136.0     3.885238  5.631754  ...     3.798431     6.165522   123.139555\n",
              "\n",
              "[11 rows x 8 columns]"
            ]
          },
          "metadata": {
            "tags": []
          },
          "execution_count": 111
        }
      ]
    },
    {
      "cell_type": "code",
      "metadata": {
        "id": "mFP6ZEGyH2m9",
        "colab_type": "code",
        "outputId": "b364b9e8-eeeb-4509-ffb0-2f26c5f541b1",
        "colab": {
          "base_uri": "https://localhost:8080/",
          "height": 221
        }
      },
      "source": [
        "train_labels = train_dataset.pop('GDPgrowth')\n",
        "test_labels = test_dataset.pop('GDPgrowth')\n",
        "\n",
        "train_labels"
      ],
      "execution_count": 0,
      "outputs": [
        {
          "output_type": "execute_result",
          "data": {
            "text/plain": [
              "1321     9.485332661\n",
              "1684     2.259373637\n",
              "314      5.925445489\n",
              "2189     6.683818881\n",
              "2314    -3.679786534\n",
              "            ...     \n",
              "52       2.390204028\n",
              "819      4.797009171\n",
              "3166    0.5519947774\n",
              "825       4.77108543\n",
              "502       7.39999969\n",
              "Name: GDPgrowth, Length: 2509, dtype: object"
            ]
          },
          "metadata": {
            "tags": []
          },
          "execution_count": 95
        }
      ]
    },
    {
      "cell_type": "code",
      "metadata": {
        "id": "mSURXr260oyi",
        "colab_type": "code",
        "outputId": "e24c3d4f-b2bb-42cf-ac24-b73c0e56a9db",
        "colab": {
          "base_uri": "https://localhost:8080/",
          "height": 419
        }
      },
      "source": [
        "\n",
        "normed_train_data = norm(train_dataset,stats)\n",
        "normed_test_data = norm(test_dataset,stats)\n",
        "\n",
        "normed_train_data\n",
        "\n"
      ],
      "execution_count": 0,
      "outputs": [
        {
          "output_type": "execute_result",
          "data": {
            "text/html": [
              "<div>\n",
              "<style scoped>\n",
              "    .dataframe tbody tr th:only-of-type {\n",
              "        vertical-align: middle;\n",
              "    }\n",
              "\n",
              "    .dataframe tbody tr th {\n",
              "        vertical-align: top;\n",
              "    }\n",
              "\n",
              "    .dataframe thead th {\n",
              "        text-align: right;\n",
              "    }\n",
              "</style>\n",
              "<table border=\"1\" class=\"dataframe\">\n",
              "  <thead>\n",
              "    <tr style=\"text-align: right;\">\n",
              "      <th></th>\n",
              "      <th>year</th>\n",
              "      <th>VAA</th>\n",
              "      <th>PSNV</th>\n",
              "      <th>GE</th>\n",
              "      <th>RQ</th>\n",
              "      <th>RL</th>\n",
              "      <th>CC</th>\n",
              "      <th>Tier0</th>\n",
              "      <th>Tier1</th>\n",
              "      <th>Tier2</th>\n",
              "    </tr>\n",
              "  </thead>\n",
              "  <tbody>\n",
              "    <tr>\n",
              "      <th>1321</th>\n",
              "      <td>-0.414995</td>\n",
              "      <td>-0.298224</td>\n",
              "      <td>-0.131247</td>\n",
              "      <td>-0.227512</td>\n",
              "      <td>-0.357871</td>\n",
              "      <td>-0.164625</td>\n",
              "      <td>-0.805832</td>\n",
              "      <td>-0.610172</td>\n",
              "      <td>1.247964</td>\n",
              "      <td>-0.713938</td>\n",
              "    </tr>\n",
              "    <tr>\n",
              "      <th>1684</th>\n",
              "      <td>-0.004127</td>\n",
              "      <td>1.088384</td>\n",
              "      <td>1.278307</td>\n",
              "      <td>-0.812153</td>\n",
              "      <td>-0.902962</td>\n",
              "      <td>-0.082740</td>\n",
              "      <td>-0.131039</td>\n",
              "      <td>-0.610172</td>\n",
              "      <td>1.247964</td>\n",
              "      <td>-0.713938</td>\n",
              "    </tr>\n",
              "    <tr>\n",
              "      <th>314</th>\n",
              "      <td>-1.442164</td>\n",
              "      <td>0.882960</td>\n",
              "      <td>1.072533</td>\n",
              "      <td>0.746890</td>\n",
              "      <td>0.629465</td>\n",
              "      <td>1.125066</td>\n",
              "      <td>0.322180</td>\n",
              "      <td>-0.610172</td>\n",
              "      <td>1.247964</td>\n",
              "      <td>-0.713938</td>\n",
              "    </tr>\n",
              "    <tr>\n",
              "      <th>2189</th>\n",
              "      <td>0.406741</td>\n",
              "      <td>-0.020903</td>\n",
              "      <td>-1.190984</td>\n",
              "      <td>0.121221</td>\n",
              "      <td>-0.059613</td>\n",
              "      <td>-0.512637</td>\n",
              "      <td>-0.543972</td>\n",
              "      <td>-0.610172</td>\n",
              "      <td>1.247964</td>\n",
              "      <td>-0.713938</td>\n",
              "    </tr>\n",
              "    <tr>\n",
              "      <th>2314</th>\n",
              "      <td>0.612174</td>\n",
              "      <td>1.037028</td>\n",
              "      <td>1.165131</td>\n",
              "      <td>-0.576245</td>\n",
              "      <td>-0.964671</td>\n",
              "      <td>0.091266</td>\n",
              "      <td>-0.181397</td>\n",
              "      <td>-0.610172</td>\n",
              "      <td>1.247964</td>\n",
              "      <td>-0.713938</td>\n",
              "    </tr>\n",
              "    <tr>\n",
              "      <th>...</th>\n",
              "      <td>...</td>\n",
              "      <td>...</td>\n",
              "      <td>...</td>\n",
              "      <td>...</td>\n",
              "      <td>...</td>\n",
              "      <td>...</td>\n",
              "      <td>...</td>\n",
              "      <td>...</td>\n",
              "      <td>...</td>\n",
              "      <td>...</td>\n",
              "    </tr>\n",
              "    <tr>\n",
              "      <th>52</th>\n",
              "      <td>-1.647597</td>\n",
              "      <td>-1.119918</td>\n",
              "      <td>-0.388465</td>\n",
              "      <td>-0.412135</td>\n",
              "      <td>-0.491572</td>\n",
              "      <td>0.029852</td>\n",
              "      <td>-0.392899</td>\n",
              "      <td>1.638359</td>\n",
              "      <td>-0.801049</td>\n",
              "      <td>-0.713938</td>\n",
              "    </tr>\n",
              "    <tr>\n",
              "      <th>819</th>\n",
              "      <td>-0.825862</td>\n",
              "      <td>0.092080</td>\n",
              "      <td>-0.789724</td>\n",
              "      <td>-0.730098</td>\n",
              "      <td>-0.913247</td>\n",
              "      <td>-0.850414</td>\n",
              "      <td>-0.413042</td>\n",
              "      <td>-0.610172</td>\n",
              "      <td>1.247964</td>\n",
              "      <td>-0.713938</td>\n",
              "    </tr>\n",
              "    <tr>\n",
              "      <th>3166</th>\n",
              "      <td>1.433910</td>\n",
              "      <td>-0.585817</td>\n",
              "      <td>-1.643688</td>\n",
              "      <td>-0.514704</td>\n",
              "      <td>-0.316732</td>\n",
              "      <td>-0.819707</td>\n",
              "      <td>-0.987120</td>\n",
              "      <td>-0.610172</td>\n",
              "      <td>1.247964</td>\n",
              "      <td>-0.713938</td>\n",
              "    </tr>\n",
              "    <tr>\n",
              "      <th>825</th>\n",
              "      <td>-0.825862</td>\n",
              "      <td>-1.027477</td>\n",
              "      <td>-1.870039</td>\n",
              "      <td>-1.530133</td>\n",
              "      <td>-1.293783</td>\n",
              "      <td>-1.556673</td>\n",
              "      <td>-1.198622</td>\n",
              "      <td>1.638359</td>\n",
              "      <td>-0.801049</td>\n",
              "      <td>-0.713938</td>\n",
              "    </tr>\n",
              "    <tr>\n",
              "      <th>502</th>\n",
              "      <td>-1.236730</td>\n",
              "      <td>-0.596088</td>\n",
              "      <td>-0.192979</td>\n",
              "      <td>-0.883951</td>\n",
              "      <td>-0.450433</td>\n",
              "      <td>-0.318160</td>\n",
              "      <td>-0.966976</td>\n",
              "      <td>-0.610172</td>\n",
              "      <td>1.247964</td>\n",
              "      <td>-0.713938</td>\n",
              "    </tr>\n",
              "  </tbody>\n",
              "</table>\n",
              "<p>2509 rows × 10 columns</p>\n",
              "</div>"
            ],
            "text/plain": [
              "          year       VAA      PSNV  ...     Tier0     Tier1     Tier2\n",
              "1321 -0.414995 -0.298224 -0.131247  ... -0.610172  1.247964 -0.713938\n",
              "1684 -0.004127  1.088384  1.278307  ... -0.610172  1.247964 -0.713938\n",
              "314  -1.442164  0.882960  1.072533  ... -0.610172  1.247964 -0.713938\n",
              "2189  0.406741 -0.020903 -1.190984  ... -0.610172  1.247964 -0.713938\n",
              "2314  0.612174  1.037028  1.165131  ... -0.610172  1.247964 -0.713938\n",
              "...        ...       ...       ...  ...       ...       ...       ...\n",
              "52   -1.647597 -1.119918 -0.388465  ...  1.638359 -0.801049 -0.713938\n",
              "819  -0.825862  0.092080 -0.789724  ... -0.610172  1.247964 -0.713938\n",
              "3166  1.433910 -0.585817 -1.643688  ... -0.610172  1.247964 -0.713938\n",
              "825  -0.825862 -1.027477 -1.870039  ...  1.638359 -0.801049 -0.713938\n",
              "502  -1.236730 -0.596088 -0.192979  ... -0.610172  1.247964 -0.713938\n",
              "\n",
              "[2509 rows x 10 columns]"
            ]
          },
          "metadata": {
            "tags": []
          },
          "execution_count": 96
        }
      ]
    },
    {
      "cell_type": "code",
      "metadata": {
        "id": "Onf4ovlS00cl",
        "colab_type": "code",
        "outputId": "b0116f87-e935-4a4b-8f0f-228b10ca16d4",
        "colab": {
          "base_uri": "https://localhost:8080/",
          "height": 221
        }
      },
      "source": [
        "def build_model():\n",
        "  model = keras.Sequential([\n",
        "    layers.Dense(10, activation='linear', input_shape=[len(train_dataset.keys())]),\n",
        "    layers.Dense(1)\n",
        "  ])\n",
        "\n",
        "  optimizer = tf.keras.optimizers.RMSprop(0.001)\n",
        "\n",
        "  model.compile(loss='mse',\n",
        "                optimizer=optimizer,\n",
        "                metrics=['mae', 'mse'])\n",
        "  return model\n",
        "\n",
        "model = build_model()\n",
        "model.summary()"
      ],
      "execution_count": 0,
      "outputs": [
        {
          "output_type": "stream",
          "text": [
            "Model: \"sequential\"\n",
            "_________________________________________________________________\n",
            "Layer (type)                 Output Shape              Param #   \n",
            "=================================================================\n",
            "dense (Dense)                (None, 10)                110       \n",
            "_________________________________________________________________\n",
            "dense_1 (Dense)              (None, 1)                 11        \n",
            "=================================================================\n",
            "Total params: 121\n",
            "Trainable params: 121\n",
            "Non-trainable params: 0\n",
            "_________________________________________________________________\n"
          ],
          "name": "stdout"
        }
      ]
    },
    {
      "cell_type": "code",
      "metadata": {
        "id": "cLQATDcP1hZe",
        "colab_type": "code",
        "outputId": "b6708c8b-f7b5-4ef7-c005-9ee34670ef10",
        "colab": {
          "base_uri": "https://localhost:8080/",
          "height": 187
        }
      },
      "source": [
        "# just to see\n",
        "example_batch = normed_train_data[:10]\n",
        "example_result = model.predict(example_batch)\n",
        "example_result"
      ],
      "execution_count": 0,
      "outputs": [
        {
          "output_type": "execute_result",
          "data": {
            "text/plain": [
              "array([[ 1.0280983 ],\n",
              "       [ 1.960515  ],\n",
              "       [ 1.6397064 ],\n",
              "       [-0.17077957],\n",
              "       [ 1.3957863 ],\n",
              "       [-0.498852  ],\n",
              "       [-0.8003104 ],\n",
              "       [ 0.85638726],\n",
              "       [-0.4201384 ],\n",
              "       [ 1.4961424 ]], dtype=float32)"
            ]
          },
          "metadata": {
            "tags": []
          },
          "execution_count": 159
        }
      ]
    },
    {
      "cell_type": "code",
      "metadata": {
        "id": "acgccJZcybMl",
        "colab_type": "code",
        "outputId": "ffeade29-b819-4251-eca3-738f1a339b4c",
        "colab": {
          "base_uri": "https://localhost:8080/",
          "height": 221
        }
      },
      "source": [
        "train_labels = pd.to_numeric(train_labels)\n",
        "train_labels"
      ],
      "execution_count": 0,
      "outputs": [
        {
          "output_type": "execute_result",
          "data": {
            "text/plain": [
              "1321    9.485333\n",
              "1684    2.259374\n",
              "314     5.925445\n",
              "2189    6.683819\n",
              "2314   -3.679787\n",
              "          ...   \n",
              "52      2.390204\n",
              "819     4.797009\n",
              "3166    0.551995\n",
              "825     4.771085\n",
              "502     7.400000\n",
              "Name: GDPgrowth, Length: 2509, dtype: float64"
            ]
          },
          "metadata": {
            "tags": []
          },
          "execution_count": 160
        }
      ]
    },
    {
      "cell_type": "code",
      "metadata": {
        "id": "IV8Z2TM3zGO1",
        "colab_type": "code",
        "outputId": "2cb6497e-8375-4db5-b2fc-43cc06071140",
        "colab": {
          "base_uri": "https://localhost:8080/",
          "height": 102
        }
      },
      "source": [
        "# actually running the model\n",
        "EPOCHS = 200\n",
        "es = EarlyStopping(monitor='val_loss', min_delta=0, patience=50, verbose=0, mode='auto', baseline=None, restore_best_weights=True)\n",
        "\n",
        "history = model.fit(\n",
        "  np.asarray(normed_train_data), np.asarray(train_labels),\n",
        "  epochs=EPOCHS, validation_split = 0.2, verbose=0,  callbacks=[es, tfdocs.modeling.EpochDots()])"
      ],
      "execution_count": 0,
      "outputs": [
        {
          "output_type": "stream",
          "text": [
            "\n",
            "Epoch: 0, loss:40.7363,  mae:4.7496,  mse:40.7363,  val_loss:42.2947,  val_mae:4.8622,  val_mse:42.2947,  \n",
            "....................................................................................................\n",
            "Epoch: 100, loss:26.9153,  mae:2.9874,  mse:26.9153,  val_loss:26.6361,  val_mae:3.0663,  val_mse:26.6361,  \n",
            "..........................................................."
          ],
          "name": "stdout"
        }
      ]
    },
    {
      "cell_type": "code",
      "metadata": {
        "id": "PwF_R3HWzHXO",
        "colab_type": "code",
        "outputId": "f883d6fd-2af2-4219-fbfd-30f2091334bf",
        "colab": {
          "base_uri": "https://localhost:8080/",
          "height": 204
        }
      },
      "source": [
        "hist = pd.DataFrame(history.history)\n",
        "hist['epoch'] = history.epoch\n",
        "hist.tail()"
      ],
      "execution_count": 0,
      "outputs": [
        {
          "output_type": "execute_result",
          "data": {
            "text/html": [
              "<div>\n",
              "<style scoped>\n",
              "    .dataframe tbody tr th:only-of-type {\n",
              "        vertical-align: middle;\n",
              "    }\n",
              "\n",
              "    .dataframe tbody tr th {\n",
              "        vertical-align: top;\n",
              "    }\n",
              "\n",
              "    .dataframe thead th {\n",
              "        text-align: right;\n",
              "    }\n",
              "</style>\n",
              "<table border=\"1\" class=\"dataframe\">\n",
              "  <thead>\n",
              "    <tr style=\"text-align: right;\">\n",
              "      <th></th>\n",
              "      <th>loss</th>\n",
              "      <th>mae</th>\n",
              "      <th>mse</th>\n",
              "      <th>val_loss</th>\n",
              "      <th>val_mae</th>\n",
              "      <th>val_mse</th>\n",
              "      <th>epoch</th>\n",
              "    </tr>\n",
              "  </thead>\n",
              "  <tbody>\n",
              "    <tr>\n",
              "      <th>154</th>\n",
              "      <td>26.915781</td>\n",
              "      <td>2.986578</td>\n",
              "      <td>26.915781</td>\n",
              "      <td>26.667595</td>\n",
              "      <td>3.068629</td>\n",
              "      <td>26.667595</td>\n",
              "      <td>154</td>\n",
              "    </tr>\n",
              "    <tr>\n",
              "      <th>155</th>\n",
              "      <td>26.922211</td>\n",
              "      <td>2.989373</td>\n",
              "      <td>26.922211</td>\n",
              "      <td>26.661568</td>\n",
              "      <td>3.068029</td>\n",
              "      <td>26.661568</td>\n",
              "      <td>155</td>\n",
              "    </tr>\n",
              "    <tr>\n",
              "      <th>156</th>\n",
              "      <td>26.906824</td>\n",
              "      <td>2.986504</td>\n",
              "      <td>26.906824</td>\n",
              "      <td>26.685289</td>\n",
              "      <td>3.069945</td>\n",
              "      <td>26.685289</td>\n",
              "      <td>156</td>\n",
              "    </tr>\n",
              "    <tr>\n",
              "      <th>157</th>\n",
              "      <td>26.910936</td>\n",
              "      <td>2.988282</td>\n",
              "      <td>26.910936</td>\n",
              "      <td>26.630047</td>\n",
              "      <td>3.067488</td>\n",
              "      <td>26.630047</td>\n",
              "      <td>157</td>\n",
              "    </tr>\n",
              "    <tr>\n",
              "      <th>158</th>\n",
              "      <td>26.913074</td>\n",
              "      <td>2.988663</td>\n",
              "      <td>26.913074</td>\n",
              "      <td>26.624182</td>\n",
              "      <td>3.067575</td>\n",
              "      <td>26.624182</td>\n",
              "      <td>158</td>\n",
              "    </tr>\n",
              "  </tbody>\n",
              "</table>\n",
              "</div>"
            ],
            "text/plain": [
              "          loss       mae        mse   val_loss   val_mae    val_mse  epoch\n",
              "154  26.915781  2.986578  26.915781  26.667595  3.068629  26.667595    154\n",
              "155  26.922211  2.989373  26.922211  26.661568  3.068029  26.661568    155\n",
              "156  26.906824  2.986504  26.906824  26.685289  3.069945  26.685289    156\n",
              "157  26.910936  2.988282  26.910936  26.630047  3.067488  26.630047    157\n",
              "158  26.913074  2.988663  26.913074  26.624182  3.067575  26.624182    158"
            ]
          },
          "metadata": {
            "tags": []
          },
          "execution_count": 162
        }
      ]
    },
    {
      "cell_type": "code",
      "metadata": {
        "id": "b8Iw0IPh0Tx0",
        "colab_type": "code",
        "outputId": "e77f32ab-b1fc-4961-b180-f06fa35b9da5",
        "colab": {
          "base_uri": "https://localhost:8080/",
          "height": 296
        }
      },
      "source": [
        "plotter = tfdocs.plots.HistoryPlotter(smoothing_std=2)\n",
        "\n",
        "plotter.plot({'Basic': history}, metric = \"mse\")\n",
        "plt.ylabel('MSE [MPG^2]')"
      ],
      "execution_count": 0,
      "outputs": [
        {
          "output_type": "execute_result",
          "data": {
            "text/plain": [
              "Text(0, 0.5, 'MSE [MPG^2]')"
            ]
          },
          "metadata": {
            "tags": []
          },
          "execution_count": 163
        },
        {
          "output_type": "display_data",
          "data": {
            "image/png": "[encoded data removed]",
            "text/plain": [
              "<Figure size 432x288 with 1 Axes>"
            ]
          },
          "metadata": {
            "tags": [],
            "needs_background": "light"
          }
        }
      ]
    },
    {
      "cell_type": "code",
      "metadata": {
        "id": "MAsjTSqq1Qpn",
        "colab_type": "code",
        "outputId": "ed7c7db1-0e47-455c-b2b8-2144d955819a",
        "colab": {
          "base_uri": "https://localhost:8080/",
          "height": 51
        }
      },
      "source": [
        "# this is really concerning?\n",
        "test_labels = pd.to_numeric(test_labels)\n",
        "loss, mae, mse = model.evaluate(np.asarray(normed_test_data), np.asarray(test_labels), verbose=2)\n",
        "\n",
        "print(\"Testing set Mean Sq Error: {:5.2f} MPG\".format(mse))"
      ],
      "execution_count": 0,
      "outputs": [
        {
          "output_type": "stream",
          "text": [
            "20/20 - 0s - loss: 42.8679 - mae: 3.2248 - mse: 42.8679\n",
            "Testing set Mean Sq Error: 42.87 MPG\n"
          ],
          "name": "stdout"
        }
      ]
    },
    {
      "cell_type": "code",
      "metadata": {
        "id": "HdAuAkd51pDU",
        "colab_type": "code",
        "outputId": "3f07dff4-9332-4b07-eaa3-3bce14b8d1a8",
        "colab": {
          "base_uri": "https://localhost:8080/",
          "height": 296
        }
      },
      "source": [
        "# data is concerning\n",
        "test_predictions = model.predict(np.asarray(normed_test_data)).flatten()\n",
        "\n",
        "# a = plt.axes(aspect='equal')\n",
        "plt.scatter(test_labels, test_predictions)\n",
        "plt.xlabel('True Values [MPG]')\n",
        "plt.ylabel('Predictions [MPG]')\n",
        "plt.xlim(-20,20)\n"
      ],
      "execution_count": 0,
      "outputs": [
        {
          "output_type": "execute_result",
          "data": {
            "text/plain": [
              "(-20.0, 20.0)"
            ]
          },
          "metadata": {
            "tags": []
          },
          "execution_count": 165
        },
        {
          "output_type": "display_data",
          "data": {
            "image/png": "[encoded data removed]",
            "text/plain": [
              "<Figure size 432x288 with 1 Axes>"
            ]
          },
          "metadata": {
            "tags": [],
            "needs_background": "light"
          }
        }
      ]
    },
    {
      "cell_type": "code",
      "metadata": {
        "id": "wtPWxVQ2nvJj",
        "colab_type": "code",
        "outputId": "665b0c33-baa6-41b7-aed9-bfb4e5cf142a",
        "colab": {
          "base_uri": "https://localhost:8080/",
          "height": 279
        }
      },
      "source": [
        "error = test_predictions - test_labels\n",
        "plt.hist(error, bins = 25)\n",
        "plt.xlim(-10,10)\n",
        "plt.xlabel(\"Prediction Error [MPG]\")\n",
        "_ = plt.ylabel(\"Count\")"
      ],
      "execution_count": 0,
      "outputs": [
        {
          "output_type": "display_data",
          "data": {
            "image/png": "[encoded data removed]",
            "text/plain": [
              "<Figure size 432x288 with 1 Axes>"
            ]
          },
          "metadata": {
            "tags": [],
            "needs_background": "light"
          }
        }
      ]
    },
    {
      "cell_type": "code",
      "metadata": {
        "id": "x_PCSJhy0xdK",
        "colab_type": "code",
        "colab": {}
      },
      "source": [
        "\n",
        "features2 = ['year', 'Tier0','Tier1', 'Tier2','VAA', 'PSNV', 'GE', 'RQ', 'RL', 'CC']\n",
        "\n",
        "\n",
        "X = df.loc[:, features2]\n",
        "\n",
        "y = df.GDPgrowth\n"
      ],
      "execution_count": 0,
      "outputs": []
    },
    {
      "cell_type": "code",
      "metadata": {
        "id": "5dRtJLEEzNBk",
        "colab_type": "code",
        "colab": {}
      },
      "source": [
        "\n",
        "# Device configuration\n",
        "device = torch.device('cuda' if torch.cuda.is_available() else 'cpu')\n",
        "\n",
        "# Hyper-parameters \n",
        "input_size = 10\n",
        "hidden_size = 10\n",
        "num_classes = 1\n",
        "num_epochs = 100\n",
        "batch_size = 10\n",
        "learning_rate = 0.15\n",
        "\n",
        "class NeuralNet(nn.Module):\n",
        "    def __init__(self, input_size, hidden_size, num_classes):\n",
        "        super(NeuralNet, self).__init__()\n",
        "        self.fc1 = nn.Linear(input_size, hidden_size) \n",
        "        self.relu = nn.ReLU()\n",
        "        self.fc2 = nn.Linear(hidden_size, num_classes)  \n",
        "    \n",
        "    def forward(self, x):\n",
        "        out = self.fc1(x)\n",
        "        out = self.relu(out)\n",
        "        out = self.fc2(out)\n",
        "        return out\n",
        "\n",
        "model = NeuralNet(input_size, hidden_size, num_classes).to(device)\n",
        "\n",
        "\n",
        "X_train, X_test, y_train, y_test = train_test_split(np.asarray(X).astype(np.float32), np.asarray(y).astype(np.float32), test_size=.10)\n",
        "\n",
        "\n",
        "X_train = torch.tensor(X_train)\n",
        "X_test = torch.tensor(X_test)\n",
        "y_train = torch.tensor(y_train).unsqueeze(1)\n",
        "y_test = torch.tensor(y_test).unsqueeze(1)\n",
        "\n",
        "\n",
        "\n",
        "train_dataset = Data.TensorDataset(X_train, y_train)\n",
        "\n",
        "test_dataset = Data.TensorDataset(X_test, y_test)\n",
        "\n",
        "# Loss and optimizer\n",
        "loss_func = torch.nn.MSELoss()  # this is for regression mean squared loss\n",
        "optimizer = torch.optim.SGD(model.parameters(), lr=learning_rate)\n",
        "\n",
        "\n",
        "# Data loader\n",
        "train_loader = torch.utils.data.DataLoader(dataset=train_dataset, \n",
        "                                           batch_size=batch_size, \n",
        "                                           shuffle=True)\n",
        "\n",
        "\n",
        "test_loader = torch.utils.data.DataLoader(dataset=test_dataset, \n",
        "                                          batch_size=1, \n",
        "                                          shuffle=False)\n",
        "\n",
        "\n"
      ],
      "execution_count": 0,
      "outputs": []
    },
    {
      "cell_type": "code",
      "metadata": {
        "id": "C-meU7B3uVFw",
        "colab_type": "code",
        "outputId": "9d17d834-3694-4032-f546-48e23a01252b",
        "colab": {
          "base_uri": "https://localhost:8080/",
          "height": 357
        }
      },
      "source": [
        ""
      ],
      "execution_count": 0,
      "outputs": [
        {
          "output_type": "stream",
          "text": [
            "tensor([[ 1.2285e+00, -6.1017e-01, -8.0105e-01,  ...,  6.2947e-01,\n",
            "          4.3928e-01,  3.6247e-01],\n",
            "        [ 2.0131e-01, -6.1017e-01,  1.2480e+00,  ..., -6.0470e-01,\n",
            "         -8.5515e-04, -3.1233e-01],\n",
            "        [ 1.0230e+00, -6.1017e-01, -8.0105e-01,  ...,  1.6579e+00,\n",
            "          2.0770e+00,  2.2761e+00],\n",
            "        ...,\n",
            "        [ 8.1761e-01, -6.1017e-01,  1.2480e+00,  ..., -9.0296e-01,\n",
            "          3.9833e-01,  9.9623e-03],\n",
            "        [ 1.6393e+00,  1.6384e+00, -8.0105e-01,  ..., -1.4069e+00,\n",
            "         -1.7102e+00, -1.2188e+00],\n",
            "        [-1.2367e+00,  1.6384e+00, -8.0105e-01,  ..., -9.3382e-01,\n",
            "         -8.8112e-01, -1.0677e+00]])\n",
            "tensor([[ 0.1944],\n",
            "        [-0.1953],\n",
            "        [-0.3406],\n",
            "        ...,\n",
            "        [-0.4505],\n",
            "        [-0.0170],\n",
            "        [ 0.6185]])\n"
          ],
          "name": "stdout"
        }
      ]
    },
    {
      "cell_type": "code",
      "metadata": {
        "id": "pgLaMBIT3TJQ",
        "colab_type": "code",
        "colab": {}
      },
      "source": [
        "\n",
        "#train model\n",
        "\n",
        "for epoch in range(num_epochs):\n",
        "  for step, (batch_x,batch_y) in enumerate(train_loader): # for each training step\n",
        "\n",
        "    #forward pass\n",
        "    ypred = model(batch_x)\n",
        "    loss = loss_func(ypred,batch_y)\n",
        "\n",
        "    #Backpropogation \n",
        "    optimizer.zero_grad() \n",
        "    loss.backward()\n",
        "    optimizer.step()\n",
        "\n",
        "\n",
        "#test model\n",
        "total_loss=0\n",
        "\n",
        "rounds=0\n",
        "for step, (batch_x,batch_y) in enumerate(test_loader): # for each training step\n",
        "  rounds+=1\n",
        "  #forward pass\n",
        "\n",
        "  ypred = model(batch_x)\n",
        "  loss = loss_func(ypred,batch_y)\n",
        "  total_loss +=loss\n",
        "  \n",
        "av_loss = total_loss/rounds\n",
        "\n",
        "\n"
      ],
      "execution_count": 0,
      "outputs": []
    },
    {
      "cell_type": "code",
      "metadata": {
        "id": "B7DEq6ZB_zwU",
        "colab_type": "code",
        "outputId": "a4e8ede4-a2b7-474d-bb2a-12df3c23b589",
        "colab": {
          "base_uri": "https://localhost:8080/",
          "height": 34
        }
      },
      "source": [
        "print(av_loss)"
      ],
      "execution_count": 0,
      "outputs": [
        {
          "output_type": "stream",
          "text": [
            "tensor(44.0540, grad_fn=<DivBackward0>)\n"
          ],
          "name": "stdout"
        }
      ]
    },
    {
      "cell_type": "code",
      "metadata": {
        "id": "ctgEvBKJnR6t",
        "colab_type": "code",
        "outputId": "9d6e380b-6479-4083-8413-ab37e22a0655",
        "colab": {
          "resources": {
            "http://localhost:8080/nbextensions/google.colab/files.js": {
              "data": "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",
              "ok": true,
              "headers": [
                [
                  "content-type",
                  "application/javascript"
                ]
              ],
              "status": 200,
              "status_text": ""
            }
          },
          "base_uri": "https://localhost:8080/",
          "height": 122
        }
      },
      "source": [
        "'''\n",
        "df = pd.read_csv(io.StringIO(uploaded['train.csv'].decode('utf-8')))\n",
        "df\n",
        "'''\n",
        "\n",
        "import io\n",
        "from google.colab import files\n",
        "uploaded = files.upload()\n",
        "\n",
        "df3 = pd.read_csv(io.StringIO(uploaded['dataset.csv'].decode('utf-8')))\n",
        "df3 = df3.drop(['country', 'country_abb'], axis=1)\n",
        "\n",
        "# # some of the rows have 'NaN' as labels, so gotta drop those\n",
        "drop_row_indices = []\n",
        "for i, row in df2.iterrows():\n",
        "    for j, col in row.iteritems():\n",
        "        try:\n",
        "            row[j] = float(col)\n",
        "        except ValueError:\n",
        "            # print(\"ValueError\")\n",
        "            drop_row_indices.append(i)\n",
        "            continue\n",
        "        if math.isnan(row[j]):\n",
        "            drop_row_indices.append(i)\n",
        "\n",
        "df2 = df2.drop(drop_row_indices, axis=0)\n",
        "\n",
        "print(df2)\n",
        "\n",
        "features2 = ['year', 'Tier','VAA', 'PSNV', 'GE', 'RQ', 'RL', 'CC']\n",
        "\n",
        "X = df2.loc[:, features2]\n",
        "\n",
        "y = df2.GDPgrowth"
      ],
      "execution_count": 0,
      "outputs": [
        {
          "output_type": "display_data",
          "data": {
            "text/html": [
              "\n",
              "     <input type=\"file\" id=\"files-e45e71ff-f128-4e08-98a3-22176246eb3b\" name=\"files[]\" multiple disabled />\n",
              "     <output id=\"result-e45e71ff-f128-4e08-98a3-22176246eb3b\">\n",
              "      Upload widget is only available when the cell has been executed in the\n",
              "      current browser session. Please rerun this cell to enable.\n",
              "      </output>\n",
              "      <script src=\"/nbextensions/google.colab/files.js\"></script> "
            ],
            "text/plain": [
              "<IPython.core.display.HTML object>"
            ]
          },
          "metadata": {
            "tags": []
          }
        },
        {
          "output_type": "stream",
          "text": [
            "Saving dataset.csv to dataset (1).csv\n",
            "Empty DataFrame\n",
            "Columns: [year, Tier, VAA, PSNV, GE, RQ, RL, CC, GDPgrowth]\n",
            "Index: []\n"
          ],
          "name": "stdout"
        }
      ]
    },
    {
      "cell_type": "code",
      "metadata": {
        "id": "R2l4r6DhrCV9",
        "colab_type": "code",
        "outputId": "cddf725f-69e8-431e-cf8c-93aa4e34af46",
        "colab": {
          "base_uri": "https://localhost:8080/",
          "height": 68
        }
      },
      "source": [
        "df3 = pd.read_csv(io.StringIO(uploaded['dataset.csv'].decode('utf-8')))\n",
        "df3 = df3.drop(['country', 'country_abb'], axis=1)\n",
        "\n",
        "df3.head()\n",
        "\n",
        "# # some of the rows have 'NaN' as labels, so gotta drop those\n",
        "drop_row_indices = []\n",
        "for i, row in df3.iterrows():\n",
        "    for j, col in row.iteritems():\n",
        "        try:\n",
        "            row[j] = float(col)\n",
        "        except ValueError:\n",
        "            # print(\"ValueError\")\n",
        "            drop_row_indices.append(i)\n",
        "            continue\n",
        "        if math.isnan(row[j]):\n",
        "            drop_row_indices.append(i)\n",
        "\n",
        "df3 = df3.drop(drop_row_indices, axis=0)\n",
        "\n",
        "print(df3)\n",
        "\n",
        "features3 = ['year', 'Tier','VAA', 'PSNV', 'GE', 'RQ', 'RL', 'CC']\n",
        "\n",
        "X = df3.loc[:, features2]\n",
        "\n",
        "y = df3.GDPgrowth"
      ],
      "execution_count": 0,
      "outputs": [
        {
          "output_type": "stream",
          "text": [
            "Empty DataFrame\n",
            "Columns: [year, Tier, VAA, PSNV, GE, RQ, RL, CC, GDPgrowth]\n",
            "Index: []\n"
          ],
          "name": "stdout"
        }
      ]
    }
  ]
}